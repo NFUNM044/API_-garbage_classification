{
 "cells": [
  {
   "cell_type": "code",
   "execution_count": 55,
   "metadata": {},
   "outputs": [],
   "source": [
    "#京东垃圾识别api\n",
    "#文字搜索\n",
    "import requests\n",
    "def ljfl(text:str,cityID:str)->dict:\n",
    "    url = 'https://aiapi.jd.com/jdai/garbageTextSearch'\n",
    "    param ={\n",
    "    'text':'',\n",
    "    \"timestamp\":'1575981545000',\n",
    "    'cityId':'',\n",
    "    'sign':\"ddc7cf8ba2ab7428984633ad043091e5\",\n",
    "    'appkey' : '6d107368a60776fd5d17d32fc6d498b8',\n",
    "    'secretkey':'d9b275190d995a71631e2ce381201282',\n",
    "    }\n",
    "    response = requests.get(url,params=param)\n",
    "    data =response.json()\n",
    "    return data\n"
   ]
  },
  {
   "cell_type": "code",
   "execution_count": 56,
   "metadata": {},
   "outputs": [
    {
     "data": {
      "text/plain": [
       "{'code': '10045',\n",
       " 'charge': False,\n",
       " 'msg': 'timestamp参数无效，请检查timestamp距离当前时间是否超过5分钟'}"
      ]
     },
     "execution_count": 56,
     "metadata": {},
     "output_type": "execute_result"
    }
   ],
   "source": [
    "ljfl('剩饭',\"310000\")"
   ]
  },
  {
   "cell_type": "code",
   "execution_count": null,
   "metadata": {},
   "outputs": [],
   "source": [
    "  'conrent':'application',\n",
    "    'type':'charset=UTF-8',"
   ]
  },
  {
   "cell_type": "code",
   "execution_count": 83,
   "metadata": {},
   "outputs": [],
   "source": [
    "#天行数据\n",
    "#垃圾分类——>文字搜索\n",
    "key_wing = \"1f4f5599873eabeb064fc4d90b0d9716\"\n",
    "def ljfl(word:str,)->dict:\n",
    "    url =\"http://api.tianapi.com/txapi/lajifenlei/index?\"\n",
    "    param ={\n",
    "        \"key\":key_wing,\n",
    "        \"word\":\"奶茶\"       \n",
    "    }\n",
    "    response = requests.get(url,params=param)\n",
    "    data =response.json()\n",
    "    return data"
   ]
  },
  {
   "cell_type": "code",
   "execution_count": 84,
   "metadata": {},
   "outputs": [
    {
     "data": {
      "text/plain": [
       "{'code': 200,\n",
       " 'msg': 'success',\n",
       " 'newslist': [{'name': '喝过的奶茶杯子',\n",
       "   'type': 3,\n",
       "   'aipre': 0,\n",
       "   'explain': '干垃圾即其它垃圾，指除可回收物、有害垃圾、厨余垃圾（湿垃圾）以外的其它生活废弃物。',\n",
       "   'contain': '常见包括砖瓦陶瓷、渣土、卫生间废纸、猫砂、污损塑料、毛发、硬壳、一次性制品、灰土、瓷器碎片等难以回收的废弃物',\n",
       "   'tip': '尽量沥干水分；难以辨识类别的生活垃圾都可以投入干垃圾容器内'},\n",
       "  {'name': '奶茶',\n",
       "   'type': 2,\n",
       "   'aipre': 0,\n",
       "   'explain': '厨余垃圾是指居民日常生活及食品加工、饮食服务、单位供餐等活动中产生的垃圾。',\n",
       "   'contain': '常见包括菜叶、剩菜、剩饭、果皮、蛋壳、茶渣、骨头等',\n",
       "   'tip': '纯流质的食物垃圾、如牛奶等，应直接倒进下水口。有包装物的湿垃圾应将包装物去除后分类投放、包装物请投放到对应的可回收物或干垃圾容器'},\n",
       "  {'name': '奶茶中的珍珠',\n",
       "   'type': 2,\n",
       "   'aipre': 0,\n",
       "   'explain': '厨余垃圾是指居民日常生活及食品加工、饮食服务、单位供餐等活动中产生的垃圾。',\n",
       "   'contain': '常见包括菜叶、剩菜、剩饭、果皮、蛋壳、茶渣、骨头等',\n",
       "   'tip': '纯流质的食物垃圾、如牛奶等，应直接倒进下水口。有包装物的湿垃圾应将包装物去除后分类投放、包装物请投放到对应的可回收物或干垃圾容器'},\n",
       "  {'name': '奶茶杯',\n",
       "   'type': 3,\n",
       "   'aipre': 0,\n",
       "   'explain': '干垃圾即其它垃圾，指除可回收物、有害垃圾、厨余垃圾（湿垃圾）以外的其它生活废弃物。',\n",
       "   'contain': '常见包括砖瓦陶瓷、渣土、卫生间废纸、猫砂、污损塑料、毛发、硬壳、一次性制品、灰土、瓷器碎片等难以回收的废弃物',\n",
       "   'tip': '尽量沥干水分；难以辨识类别的生活垃圾都可以投入干垃圾容器内'},\n",
       "  {'name': '奶茶盖',\n",
       "   'type': 3,\n",
       "   'aipre': 0,\n",
       "   'explain': '干垃圾即其它垃圾，指除可回收物、有害垃圾、厨余垃圾（湿垃圾）以外的其它生活废弃物。',\n",
       "   'contain': '常见包括砖瓦陶瓷、渣土、卫生间废纸、猫砂、污损塑料、毛发、硬壳、一次性制品、灰土、瓷器碎片等难以回收的废弃物',\n",
       "   'tip': '尽量沥干水分；难以辨识类别的生活垃圾都可以投入干垃圾容器内'},\n",
       "  {'name': '奶茶纸杯',\n",
       "   'type': 3,\n",
       "   'aipre': 0,\n",
       "   'explain': '干垃圾即其它垃圾，指除可回收物、有害垃圾、厨余垃圾（湿垃圾）以外的其它生活废弃物。',\n",
       "   'contain': '常见包括砖瓦陶瓷、渣土、卫生间废纸、猫砂、污损塑料、毛发、硬壳、一次性制品、灰土、瓷器碎片等难以回收的废弃物',\n",
       "   'tip': '尽量沥干水分；难以辨识类别的生活垃圾都可以投入干垃圾容器内'},\n",
       "  {'name': '奶茶里的珍珠',\n",
       "   'type': 2,\n",
       "   'aipre': 0,\n",
       "   'explain': '厨余垃圾是指居民日常生活及食品加工、饮食服务、单位供餐等活动中产生的垃圾。',\n",
       "   'contain': '常见包括菜叶、剩菜、剩饭、果皮、蛋壳、茶渣、骨头等',\n",
       "   'tip': '纯流质的食物垃圾、如牛奶等，应直接倒进下水口。有包装物的湿垃圾应将包装物去除后分类投放、包装物请投放到对应的可回收物或干垃圾容器'},\n",
       "  {'name': '珍珠奶茶杯',\n",
       "   'type': 3,\n",
       "   'aipre': 0,\n",
       "   'explain': '干垃圾即其它垃圾，指除可回收物、有害垃圾、厨余垃圾（湿垃圾）以外的其它生活废弃物。',\n",
       "   'contain': '常见包括砖瓦陶瓷、渣土、卫生间废纸、猫砂、污损塑料、毛发、硬壳、一次性制品、灰土、瓷器碎片等难以回收的废弃物',\n",
       "   'tip': '尽量沥干水分；难以辨识类别的生活垃圾都可以投入干垃圾容器内'}]}"
      ]
     },
     "execution_count": 84,
     "metadata": {},
     "output_type": "execute_result"
    }
   ],
   "source": [
    "ljfl(\"\")"
   ]
  },
  {
   "cell_type": "code",
   "execution_count": 85,
   "metadata": {},
   "outputs": [],
   "source": [
    "#聚合数据垃圾分类api\n",
    "#文字搜索\n",
    "key_wing = \"8ac1b69e9264c06e74e6d4ccdce3f2e1\"\n",
    "def ljfl(word:str,)->dict:\n",
    "    url =\"http://apis.juhe.cn/rubbish/search\"\n",
    "    param ={\n",
    "        \"key\":key_wing,\n",
    "        \"q\":\"奶茶\"       \n",
    "    }\n",
    "    response = requests.get(url,params=param)\n",
    "    data =response.json()\n",
    "    return data"
   ]
  },
  {
   "cell_type": "code",
   "execution_count": 86,
   "metadata": {},
   "outputs": [
    {
     "data": {
      "text/plain": [
       "{'reason': 'success',\n",
       " 'result': [{'id': '21', 'itemName': '奶茶杯', 'itemCategory': '干垃圾'},\n",
       "  {'id': '22', 'itemName': '奶茶杯盖', 'itemCategory': '干垃圾'},\n",
       "  {'id': '23', 'itemName': '奶茶杯身', 'itemCategory': '干垃圾'},\n",
       "  {'id': '24', 'itemName': '奶茶珍珠', 'itemCategory': '湿垃圾'},\n",
       "  {'id': '25', 'itemName': '奶茶椰果', 'itemCategory': '湿垃圾'},\n",
       "  {'id': '308', 'itemName': '奶茶盖', 'itemCategory': '干垃圾'},\n",
       "  {'id': '2671', 'itemName': '奶茶', 'itemCategory': '湿垃圾'},\n",
       "  {'id': '2677', 'itemName': '奶茶饮料', 'itemCategory': '湿垃圾'},\n",
       "  {'id': '4411', 'itemName': '奶茶纸杯', 'itemCategory': '干垃圾'},\n",
       "  {'id': '4412', 'itemName': '塑料奶茶杯', 'itemCategory': '干垃圾'},\n",
       "  {'id': '4726', 'itemName': '奶茶中的珍珠', 'itemCategory': '湿垃圾'},\n",
       "  {'id': '5204', 'itemName': '奶茶塑料盖', 'itemCategory': '干垃圾'},\n",
       "  {'id': '5206', 'itemName': '奶茶塑料杯', 'itemCategory': '干垃圾'},\n",
       "  {'id': '5503', 'itemName': '珍珠奶茶杯', 'itemCategory': '干垃圾'},\n",
       "  {'id': '5532', 'itemName': '喝过的奶茶杯子', 'itemCategory': '干垃圾'}],\n",
       " 'error_code': 0}"
      ]
     },
     "execution_count": 86,
     "metadata": {},
     "output_type": "execute_result"
    }
   ],
   "source": [
    "ljfl(\"\")"
   ]
  },
  {
   "cell_type": "code",
   "execution_count": null,
   "metadata": {},
   "outputs": [],
   "source": []
  }
 ],
 "metadata": {
  "kernelspec": {
   "display_name": "Python 3",
   "language": "python",
   "name": "python3"
  },
  "language_info": {
   "codemirror_mode": {
    "name": "ipython",
    "version": 3
   },
   "file_extension": ".py",
   "mimetype": "text/x-python",
   "name": "python",
   "nbconvert_exporter": "python",
   "pygments_lexer": "ipython3",
   "version": "3.7.1"
  }
 },
 "nbformat": 4,
 "nbformat_minor": 2
}
